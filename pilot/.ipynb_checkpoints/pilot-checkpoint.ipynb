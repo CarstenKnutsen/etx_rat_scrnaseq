{
 "cells": [
  {
   "cell_type": "code",
   "execution_count": null,
   "id": "b7733999",
   "metadata": {},
   "outputs": [],
   "source": [
    "import os\n",
    "import scanpy as sc\n",
    "import numpy as np\n",
    "import pandas as pd\n",
    "import string\n",
    "import anndata\n",
    "data = '/home/carsten/alvira_bioinformatics/etx_rat_scrnaseq/data/CellRanger_output'"
   ]
  },
  {
   "cell_type": "code",
   "execution_count": null,
   "id": "9c3c1e47",
   "metadata": {},
   "outputs": [],
   "source": [
    "data = '/home/carsten/alvira_bioinformatics/etx_rat_scrnaseq/data/processed/single_cell_files'\n"
   ]
  },
  {
   "cell_type": "code",
   "execution_count": null,
   "id": "a0908677",
   "metadata": {},
   "outputs": [],
   "source": [
    "adata = sc.read(f'{data}/etx_rat_processed_cell_typed_raw.gz.h5ad')"
   ]
  },
  {
   "cell_type": "code",
   "execution_count": null,
   "id": "fe0631aa",
   "metadata": {},
   "outputs": [],
   "source": [
    "adata"
   ]
  },
  {
   "cell_type": "code",
   "execution_count": null,
   "id": "fa2bccb9",
   "metadata": {},
   "outputs": [],
   "source": [
    "adata = adata[~adata.obs['Cell Subtype'].isna()]"
   ]
  },
  {
   "cell_type": "code",
   "execution_count": null,
   "id": "416480ee",
   "metadata": {},
   "outputs": [],
   "source": [
    "sc.pp.normalize_total(adata, target_sum = 1e4)\n",
    "sc.pp.log1p(adata)"
   ]
  },
  {
   "cell_type": "code",
   "execution_count": null,
   "id": "71cf138d",
   "metadata": {},
   "outputs": [],
   "source": []
  },
  {
   "cell_type": "code",
   "execution_count": null,
   "id": "4f71fa1a",
   "metadata": {},
   "outputs": [],
   "source": [
    "sc.pl.embedding(adata[adata.obs['lineage']=='immune'],\n",
    "               basis = 'X_umap_immune',\n",
    "               color = 'Ca4')"
   ]
  },
  {
   "cell_type": "code",
   "execution_count": null,
   "id": "7174b644",
   "metadata": {},
   "outputs": [],
   "source": []
  }
 ],
 "metadata": {
  "kernelspec": {
   "display_name": "Python 3 (ipykernel)",
   "language": "python",
   "name": "python3"
  },
  "language_info": {
   "codemirror_mode": {
    "name": "ipython",
    "version": 3
   },
   "file_extension": ".py",
   "mimetype": "text/x-python",
   "name": "python",
   "nbconvert_exporter": "python",
   "pygments_lexer": "ipython3",
   "version": "3.7.11"
  }
 },
 "nbformat": 4,
 "nbformat_minor": 5
}
