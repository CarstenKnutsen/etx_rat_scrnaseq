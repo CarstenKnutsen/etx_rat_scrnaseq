{
 "cells": [
  {
   "cell_type": "code",
   "execution_count": null,
   "id": "d3dce59c",
   "metadata": {},
   "outputs": [],
   "source": [
    "import pandas as pd\n",
    "import os\n",
    "import scanpy as sc\n",
    "import scanpy.external as sce\n",
    "import seaborn as sns\n",
    "import numpy as np\n",
    "import matplotlib.pylab as plt\n",
    "import leidenalg as la\n",
    "import northstar\n",
    "import itertools\n",
    "import anndata\n",
    "from matplotlib import ticker\n"
   ]
  },
  {
   "cell_type": "code",
   "execution_count": null,
   "id": "7cf4ce35",
   "metadata": {},
   "outputs": [],
   "source": [
    "figures = \"/home/carsten/alvira_bioinformatics/etx_rat_scrnaseq/data/figures/cell_type_abundance\"\n",
    "data = \"/home/carsten/alvira_bioinformatics/etx_rat_scrnaseq/data/processed/single_cell_files\"\n",
    "os.makedirs(figures, exist_ok=True)\n",
    "sc.set_figure_params(dpi=300, dpi_save=300, format=\"png\")\n",
    "sc.settings.figdir = figures\n"
   ]
  },
  {
   "cell_type": "code",
   "execution_count": null,
   "id": "fb1612d1",
   "metadata": {},
   "outputs": [],
   "source": [
    "adata = sc.read(f\"{data}/etx_rat_processed_cell_typed_raw.gz.h5ad\")"
   ]
  },
  {
   "cell_type": "code",
   "execution_count": null,
   "id": "59a3c6dc",
   "metadata": {},
   "outputs": [],
   "source": [
    "for treatment in adata.obs['Treatment'].cat.categories:\n",
    "    treat_adata= adata[adata.obs['Treatment']==treatment]\n",
    "    df = treat_adata.obs\n",
    "    df2 = df.groupby('Timepoint')['Cell Subtype'].value_counts(normalize=True).mul(100).rename('% cells sampled').reset_index()\n",
    "    df2['Cell Subtype'] = df2['level_1']\n",
    "    #         df = sc.get.obs_df(endo, ['ct', 'Bst1','Timepoint'])\n",
    "    for lineage in treat_adata.obs['lineage'].cat.categories:\n",
    "        lin_adata = treat_adata[treat_adata.obs['lineage']==lineage].copy()\n",
    "        df3 = df2.loc[df2['Cell Subtype'].isin(lin_adata.obs['Cell Subtype'].cat.categories.tolist())].copy()\n",
    "        df3['Cell Subtype']=df3['Cell Subtype'].astype('string')\n",
    "        sns.catplot(data=df3,\n",
    "                    x='Cell Subtype',\n",
    "                    y='% cells sampled',\n",
    "                    hue='Timepoint',\n",
    "                    hue_order = ['E20','D0','D14'],\n",
    "                    kind='bar')\n",
    "        plt.xticks(rotation=90)\n",
    "        plt.yscale('log')\n",
    "        ax = plt.gca()\n",
    "        ax.yaxis.set_major_formatter(ticker.ScalarFormatter())  # set regular formatting\n",
    "        plt.title(f'{treatment}')\n",
    "        plt.savefig(f'{figures}/{lineage}_{treatment}_abunance_by_time.png', bbox_inches='tight')\n"
   ]
  },
  {
   "cell_type": "code",
   "execution_count": null,
   "id": "7da1402c",
   "metadata": {},
   "outputs": [],
   "source": [
    "for timepoint in adata.obs['Timepoint'].cat.categories:\n",
    "    tp_adata= adata[adata.obs['Timepoint']==timepoint]\n",
    "    df = tp_adata.obs\n",
    "    df2 = df.groupby('Treatment')['Cell Subtype'].value_counts(normalize=True).mul(100).rename('% cells sampled').reset_index()\n",
    "    df2['Cell Subtype'] = df2['level_1']\n",
    "    #         df = sc.get.obs_df(endo, ['ct', 'Bst1','Timepoint'])\n",
    "    for lineage in tp_adata.obs['lineage'].cat.categories:\n",
    "        lin_adata = tp_adata[tp_adata.obs['lineage']==lineage].copy()\n",
    "        df3 = df2.loc[df2['Cell Subtype'].isin(lin_adata.obs['Cell Subtype'].cat.categories.tolist())].copy()\n",
    "        df3['Cell Subtype']=df3['Cell Subtype'].astype('string')\n",
    "        sns.catplot(data=df3,\n",
    "                    x='Cell Subtype',\n",
    "                    y='% cells sampled',\n",
    "                    hue='Treatment',\n",
    "                    kind='bar')\n",
    "        plt.xticks(rotation=90)\n",
    "        plt.yscale('log')\n",
    "        plt.title(f'{timepoint}')\n",
    "        ax = plt.gca()\n",
    "        ax.yaxis.set_major_formatter(ticker.ScalarFormatter())  # set regular formatting\n",
    "        plt.savefig(f'{figures}/{lineage}_{timepoint}_abunance_by_treatment.png', bbox_inches='tight')\n"
   ]
  },
  {
   "cell_type": "code",
   "execution_count": null,
   "id": "95dd1dc6",
   "metadata": {},
   "outputs": [],
   "source": [
    "for timepoint in adata.obs['Timepoint'].cat.categories:\n",
    "    tp_adata= adata[adata.obs['Timepoint']==timepoint]\n",
    "    df = tp_adata.obs\n",
    "    df2 = df.groupby('Treatment')['lineage'].value_counts(normalize=True).mul(100).rename('% cells sampled').reset_index()\n",
    "    df2['lineage'] = df2['level_1']\n",
    "    #         df = sc.get.obs_df(endo, ['ct', 'Bst1','Timepoint'])\n",
    "    \n",
    "    sns.catplot(data=df2,\n",
    "                x='lineage',\n",
    "                y='% cells sampled',\n",
    "                hue='Treatment',\n",
    "                kind='bar')\n",
    "    plt.xticks(rotation=90)\n",
    "    plt.title(f'{timepoint}')\n",
    "    plt.savefig(f'{figures}/lineage_{timepoint}_abunance_by_treatment.png', bbox_inches='tight')\n"
   ]
  },
  {
   "cell_type": "code",
   "execution_count": null,
   "id": "95622925",
   "metadata": {},
   "outputs": [],
   "source": [
    "for treatment in adata.obs['Treatment'].cat.categories:\n",
    "    tp_adata= adata[adata.obs['Treatment']==treatment]\n",
    "    df = tp_adata.obs\n",
    "    df2 = df.groupby('Timepoint')['lineage'].value_counts(normalize=True).mul(100).rename('% cells sampled').reset_index()\n",
    "    df2['lineage'] = df2['level_1']\n",
    "    #         df = sc.get.obs_df(endo, ['ct', 'Bst1','Timepoint'])\n",
    "    \n",
    "    sns.catplot(data=df2,\n",
    "                x='lineage',\n",
    "                y='% cells sampled',\n",
    "                hue='Timepoint',\n",
    "                hue_order=['E20','D0','D14'],\n",
    "                kind='bar')\n",
    "    plt.xticks(rotation=90)\n",
    "    plt.title(f'{treatment}')\n",
    "    plt.savefig(f'{figures}/lineage_{treatment}_abunance_by_timepoint.png', bbox_inches='tight')"
   ]
  }
 ],
 "metadata": {
  "kernelspec": {
   "display_name": "Python 3 (ipykernel)",
   "language": "python",
   "name": "python3"
  },
  "language_info": {
   "codemirror_mode": {
    "name": "ipython",
    "version": 3
   },
   "file_extension": ".py",
   "mimetype": "text/x-python",
   "name": "python",
   "nbconvert_exporter": "python",
   "pygments_lexer": "ipython3",
   "version": "3.7.11"
  }
 },
 "nbformat": 4,
 "nbformat_minor": 5
}
